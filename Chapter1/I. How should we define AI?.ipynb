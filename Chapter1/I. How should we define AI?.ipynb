{
 "cells": [
  {
   "cell_type": "markdown",
   "metadata": {},
   "source": [
    "# Applications\n",
    "___\n",
    "## Self-driving cars\n",
    "Decision making, computer vision, search and planning. In general technologies of autonomous systems.\n",
    "\n",
    "## Content recommendation\n",
    "Personalize the content you offer.\n",
    "\n",
    "## Image and video processing\n",
    "Recognize generate or alter visual content."
   ]
  },
  {
   "cell_type": "markdown",
   "metadata": {},
   "source": [
    "# What is and what it isn't AI?\n",
    "___\n",
    "\n",
    "* Constantly redefined.\n",
    "* \"Cool thinks that computer can never do\"\n",
    "    * ironic --> never progress\n",
    "    * partly truth --> old methods that considered as AI, now are basic knowledge\n",
    "* Science fiction\n",
    "    * Most robots aren't as presented in movies or literature\n",
    "* What seems easy is actually hard and the opposite.\n",
    "    * Computer are having a hard time to perform simple human tasks, but they excel in really complicated ones\n",
    "* Attempt to define AI\n",
    "    * Autonomy: The ability to perform tasks in complex environments, without the constant guidance by a user.\n",
    "    * Adaptivity: The ability to improve performance by learning from experience.\n",
    "* Words can be misleading\n",
    "    * Intelligent systems don't acquire the intelligence of a human. It's different.\n",
    "    * **Suitcase words** can have different meanings and that increases the risk of misinterpretation.\n",
    "    * AI is narrow. Being able to solve one problem, tells nothing about the ability to solve a different one.\n",
    "* AI is not a countable noun\n",
    "    * You can't say one AI, two AIs or more AI. You can say an AI method. "
   ]
  },
  {
   "cell_type": "markdown",
   "metadata": {},
   "source": [
    "# Exercise 1: Is this AI or not?\n",
    "___\n",
    "- Spreadsheet that calculates sums and other pre-defined functions on given data --> No\n",
    "- Predicting the stock market by fitting a curve to past data about stock prices --> Yes\n",
    "- A GPS navigation system for finding the fastest route --> Yes\n",
    "- A music recommendation system such as Spotify that suggests music based on the user's listening behavior --> Yes\n",
    "- Big data storage solutions that can store huge amounts of data (such as images or video) and stream them to many users at the same time --> No\n",
    "- Photo editing features such as brightness and contrast in applications such as Photoshop --> No\n",
    "- Style transfer filters in applications such as Prisma that take a photo and transform it into different art styles (impressionist, cubist, ...) --> Yes"
   ]
  }
 ],
 "metadata": {
  "hide_input": false,
  "kernelspec": {
   "display_name": "Python 3",
   "language": "python",
   "name": "python3"
  },
  "language_info": {
   "codemirror_mode": {
    "name": "ipython",
    "version": 3
   },
   "file_extension": ".py",
   "mimetype": "text/x-python",
   "name": "python",
   "nbconvert_exporter": "python",
   "pygments_lexer": "ipython3",
   "version": "3.7.3"
  },
  "latex_envs": {
   "LaTeX_envs_menu_present": true,
   "autoclose": false,
   "autocomplete": true,
   "bibliofile": "biblio.bib",
   "cite_by": "apalike",
   "current_citInitial": 1,
   "eqLabelWithNumbers": true,
   "eqNumInitial": 1,
   "hotkeys": {
    "equation": "Ctrl-E",
    "itemize": "Ctrl-I"
   },
   "labels_anchors": false,
   "latex_user_defs": false,
   "report_style_numbering": false,
   "user_envs_cfg": false
  }
 },
 "nbformat": 4,
 "nbformat_minor": 2
}
