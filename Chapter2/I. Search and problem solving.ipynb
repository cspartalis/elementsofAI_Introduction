{
 "cells": [
  {
   "cell_type": "markdown",
   "metadata": {},
   "source": [
    "## Search in practice: getting from A to B\n",
    "___\n",
    "AI may use different search techniques to solve a problem.\n",
    "\n",
    "The first step of the problem solving process is to define our **goal**, the possible **choices** to reach this goal and the **cost** of each choice as well.\n",
    "\n",
    "Two kinds of problems:\n",
    "* Static environment w/ only one agent\n",
    "* Two agents competing each other"
   ]
  },
  {
   "cell_type": "markdown",
   "metadata": {},
   "source": [
    "## Toy problem: Chicken crossing\n",
    "\n",
    "Goal: The seeds and the chicken must not be eaten and all the all of the animals, seeds and robot must cross the river.\n",
    "Choices: 16 states (binary attributes: Robot, Fox, Chicken, Seeds)\n",
    "\n",
    "Restrictions:\n",
    "* Fox mustn't stay alone w/ chick (w/o the Robot)\n",
    "* Chick mustn't stay alone w/ seeds (w/o th Robot)\n",
    "* There is enough space in the boat for the Robot and two others.\n",
    "\n",
    "## State space, transitions, and costs\n",
    "\n",
    "**State space**: set of possible situations.\n",
    "\n",
    "**Transitions**: possible moves between one state and another.\n",
    "\n",
    "**Cost**: The transitions aren't all alike, there are some more profitable."
   ]
  },
  {
   "cell_type": "markdown",
   "metadata": {},
   "source": [
    "## Exercise 5\n",
    "The chicken problem, but now there are only two available seats in the boat (one for the Robot)\n",
    "\n",
    "**Solution:**\n",
    "\n",
    "| Robot | Fox | Chicken | Seeds | State\n",
    "| --- | --- | --- | --- | --- |\n",
    "| 0 | 0 | 0 | 0 | S0 |\n",
    "| 0 | 0 | 0 | 1 | S1 |\n",
    "| 0 | 0 | 1 | 0 | S2 |\n",
    "| 0 | 0 | 1 | 1 | -- |\n",
    "| 0 | 1 | 0 | 0 | S3 |\n",
    "| 0 | 1 | 0 | 1 | S4 |\n",
    "| 0 | 1 | 1 | 0 | -- |\n",
    "| 0 | 1 | 1 | 1 | -- |\n",
    "| 1 | 0 | 0 | 0 | -- |\n",
    "| 1 | 0 | 0 | 1 | -- |\n",
    "| 1 | 0 | 1 | 0 | S5 |\n",
    "| 1 | 0 | 1 | 1 | S6 |\n",
    "| 1 | 1 | 0 | 0 | -- |\n",
    "| 1 | 1 | 0 | 1 | S7 |\n",
    "| 1 | 1 | 1 | 0 | S8 |\n",
    "| 1 | 1 | 1 | 1 | S9 |\n",
    "\n",
    "Our goal is reach the state 9\n",
    "S0 --> S5 --> S2 --> S8 --> S3 --> S7 --> S4 --> S9\n",
    "\n",
    "So, we are having **7 transitions**"
   ]
  },
  {
   "cell_type": "markdown",
   "metadata": {},
   "source": [
    "## Exercise 6\n",
    "\n",
    "<img src='ex6.png'></img>"
   ]
  }
 ],
 "metadata": {
  "hide_input": false,
  "kernelspec": {
   "display_name": "Python 3",
   "language": "python",
   "name": "python3"
  },
  "language_info": {
   "codemirror_mode": {
    "name": "ipython",
    "version": 3
   },
   "file_extension": ".py",
   "mimetype": "text/x-python",
   "name": "python",
   "nbconvert_exporter": "python",
   "pygments_lexer": "ipython3",
   "version": "3.7.3"
  },
  "latex_envs": {
   "LaTeX_envs_menu_present": true,
   "autoclose": false,
   "autocomplete": true,
   "bibliofile": "biblio.bib",
   "cite_by": "apalike",
   "current_citInitial": 1,
   "eqLabelWithNumbers": true,
   "eqNumInitial": 1,
   "hotkeys": {
    "equation": "Ctrl-E",
    "itemize": "Ctrl-I"
   },
   "labels_anchors": false,
   "latex_user_defs": false,
   "report_style_numbering": false,
   "user_envs_cfg": false
  }
 },
 "nbformat": 4,
 "nbformat_minor": 2
}
